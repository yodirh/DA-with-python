{
 "cells": [
  {
   "cell_type": "markdown",
   "metadata": {},
   "source": [
    "<!--NAVIGATION-->\n",
    "\n",
    "\n",
    "<a href=\"https://colab.research.google.com/github/saskeli/x/blob/master/pandas1.ipynb\"><img align=\"left\" src=\"https://colab.research.google.com/assets/colab-badge.svg\" alt=\"Open in Colab\" title=\"Open and Execute in Google Colaboratory\"></a>\n",
    "\n",
    "|                                        -                                        |                                        -                                        |                                        -                                        |\n",
    "|---------------------------------------------------------------------------------|---------------------------------------------------------------------------------|---------------------------------------------------------------------------------|\n",
    "|          [Exercise 13 (read series)](<#Exercise-13-(read-series&#41;>)          | [Exercise 14 (operations on series)](<#Exercise-14-(operations-on-series&#41;>) |       [Exercise 15 (inverse series)](<#Exercise-15-(inverse-series&#41;>)       |\n",
    "\n"
   ]
  },
  {
   "cell_type": "markdown",
   "metadata": {},
   "source": [
    "# Pandas\n",
    "\n",
    "In the NumPy section we dealt with some arrays, whose columns had each a special meaning. For example, the column number 0 could contain values interpreted as years, and column 1 could contain a month, and so on. It is possible to handle the data this way, but in can be hard to remember, which column number corresponds to which variable. Especially, if you later remove some column from the array, then the numbering of the remaining columns changes. One solution to this is to give a descriptive name to each column. These column names stay fixed and attached to their corresponding columns, even if we remove some of the columns. In addition, the rows can be given names as well, these are called *indices* in Pandas.\n",
    "\n",
    "The [Pandas](http://pandas.pydata.org/) library is built on top of the NumPy library, and it provides a special kind of two dimensional data structure called `DataFrame`. The `DataFrame` allows to give names to the columns, so that one can access a column using its name in place of the index of the column.\n",
    "\n",
    "First we will quickly go through a few examples to see what is possible with Pandas. You may need to check some details from the Pandas [documentation](http://pandas.pydata.org/pandas-docs/stable/) in order to complete the exercises. We start by doing some standard imports:"
   ]
  },
  {
   "cell_type": "markdown",
   "metadata": {},
   "source": [
    "## Creation and indexing of series\n",
    "\n",
    "One can turn any one-dimensional iterable into a Series, which is a one-dimensional data structure:"
   ]
  },
  {
   "cell_type": "markdown",
   "metadata": {},
   "source": [
    "#### <div class=\"alert alert-info\">Exercise 13 (read series)</div>\n",
    "\n",
    "Write function `read_series` that reads input lines from the user and return a Series. Each line should contain first the index and then the corresponding value, separated by whitespace. The index and values are strings (in this case `dtype` is `object`). An empty line signals the end of Series. Malformed input should cause an exception. An input line is malformed, if it is non-empty and, when split at whitespace, does not result in two parts.\n",
    "\n",
    "Test your function from the `main` function."
   ]
  },
  {
   "cell_type": "code",
   "execution_count": 3,
   "metadata": {},
   "outputs": [
    {
     "name": "stdout",
     "output_type": "stream",
     "text": [
      "a 1\n",
      "b 2\n",
      "\n",
      "a    1\n",
      "b    2\n",
      "dtype: object\n"
     ]
    }
   ],
   "source": [
    "#!/usr/bin/env python3\n",
    "import pandas as pd\n",
    "\n",
    "def read_series():\n",
    "    l= []\n",
    "    l1=[]\n",
    "\n",
    "    \n",
    "    while True:\n",
    "        try:   \n",
    "            inp = input()\n",
    "\n",
    "        except InterruptedError:\n",
    "            #if (len(j)!=2):\n",
    "            print(\"error\")\n",
    "        \n",
    "        if not inp.strip():\n",
    "            break\n",
    "\n",
    "        j = inp.split()\n",
    "        l.append(j[1])\n",
    "        l1.append(j[0])\n",
    "    \n",
    "    \n",
    "    return pd.Series(l, index =l1 )\n",
    "    \n",
    "\n",
    "def main():\n",
    "    \n",
    "    print(read_series())\n",
    "\n",
    "if __name__ == \"__main__\":\n",
    "    main()\n"
   ]
  },
  {
   "cell_type": "markdown",
   "metadata": {},
   "source": [
    "#### <div class=\"alert alert-info\">Exercise 14 (operations on series)</div>\n",
    "\n",
    "Write function `create_series` that gets two lists of numbers as parameters. Both lists should have length 3.\n",
    "The function should first create two Series, `s1` and `s2`. The first series should have values from the first parameter list and have corresponding indices `a`, `b`, and  `c`. The second series should get its values from the second parameter list and have again the corresponding indices `a`, `b`, and  `c`. The function should return the pair of these Series.\n",
    "\n",
    "Then, write a function `modify_series` that gets two Series as parameters. It should add to the first Series `s1` a new value with index `d`. The new value should be the same as the value in Series `s2` with index `b`.\n",
    "Then delete the element from `s2` that has index `b`. Now the first Series should have four values, while the second list has only two values. Adding a new element to a Series can be achieved by assignment, like with dictionaries. Deletion of an element from a Series can be done with the `del` statement.\n",
    "\n",
    "Test these functions from the main function. Try adding together the Series returned by the `modify_series` function. The operations on Series use the indices to keep the element-wise operations *aligned*. If for some index the operation could not be performed, the resulting value will be `NaN` (Not A Number).\n",
    "\n",
    "<hr/>"
   ]
  },
  {
   "cell_type": "code",
   "execution_count": 1,
   "metadata": {},
   "outputs": [
    {
     "name": "stdout",
     "output_type": "stream",
     "text": [
      "(a    1\n",
      "b    2\n",
      "c    3\n",
      "d    5\n",
      "dtype: int64, a    4\n",
      "c    6\n",
      "dtype: int64)\n",
      "a    5.0\n",
      "b    7.0\n",
      "c    9.0\n",
      "d    NaN\n",
      "dtype: float64\n"
     ]
    }
   ],
   "source": [
    "import pandas as pd\n",
    "\n",
    "def create_series(L1, L2):\n",
    "    s1 = pd.Series(L1, index = list(\"abc\"))\n",
    "    s2 = pd.Series(L2, index = list(\"abc\"))\n",
    "    return (s1, s2)\n",
    "    \n",
    "def modify_series(s1, s2):\n",
    "    #s1._add_series_or_dataframe_operations(s2[1], index = list(\"d\"))\n",
    "    s1[\"d\"] = s2[1]\n",
    "    k = s2.drop(s2.index[1])\n",
    "    return (s1,k)\n",
    "    \n",
    "def main():\n",
    "    L1 = [1,2,3]\n",
    "    L2 = [4,5,6]\n",
    "    k1, k2 = create_series(L1, L2) \n",
    "    \n",
    "    print(modify_series(k1,k2))\n",
    "    print(k1+k2)\n",
    "    \n",
    "if __name__ == \"__main__\":\n",
    "    main()\n"
   ]
  },
  {
   "cell_type": "markdown",
   "metadata": {},
   "source": [
    "#### <div class=\"alert alert-info\">Exercise 15 (inverse series)</div>\n",
    "\n",
    "Write function `inverse_series` that get a Series as a parameter and returns a new series, whose indices and values have swapped roles. Test your function from the `main` function.\n",
    "\n",
    "What happens if some value appears multiple times in the original Series? What happens if you use this value to index the resulting Series?\n",
    "<hr/>"
   ]
  },
  {
   "cell_type": "code",
   "execution_count": 2,
   "metadata": {},
   "outputs": [
    {
     "name": "stdout",
     "output_type": "stream",
     "text": [
      "1    a\n",
      "2    b\n",
      "dtype: object\n"
     ]
    }
   ],
   "source": [
    "import pandas as pd\n",
    "\n",
    "def inverse_series(s):\n",
    "    return pd.Series(s.index[:], s.values[:])\n",
    "\n",
    "def main():\n",
    "    s = pd.Series([1,2], index = list(\"ab\"))\n",
    "    print(inverse_series(s))\n",
    "\n",
    "if __name__ == \"__main__\":\n",
    "    main()"
   ]
  }
 ],
 "metadata": {
  "kernelspec": {
   "display_name": "Python 3",
   "language": "python",
   "name": "python3"
  },
  "language_info": {
   "codemirror_mode": {
    "name": "ipython",
    "version": 3
   },
   "file_extension": ".py",
   "mimetype": "text/x-python",
   "name": "python",
   "nbconvert_exporter": "python",
   "pygments_lexer": "ipython3",
   "version": "3.7.6"
  },
  "varInspector": {
   "cols": {
    "lenName": 16,
    "lenType": 16,
    "lenVar": 40
   },
   "kernels_config": {
    "python": {
     "delete_cmd_postfix": "",
     "delete_cmd_prefix": "del ",
     "library": "var_list.py",
     "varRefreshCmd": "print(var_dic_list())"
    },
    "r": {
     "delete_cmd_postfix": ") ",
     "delete_cmd_prefix": "rm(",
     "library": "var_list.r",
     "varRefreshCmd": "cat(var_dic_list()) "
    }
   },
   "types_to_exclude": [
    "module",
    "function",
    "builtin_function_or_method",
    "instance",
    "_Feature"
   ],
   "window_display": false
  }
 },
 "nbformat": 4,
 "nbformat_minor": 2
}
